{
  "nbformat": 4,
  "nbformat_minor": 0,
  "metadata": {
    "colab": {
      "provenance": []
    },
    "kernelspec": {
      "name": "python3",
      "display_name": "Python 3"
    },
    "language_info": {
      "name": "python"
    }
  },
  "cells": [
    {
      "cell_type": "code",
      "source": [
        "import kagglehub\n",
        "import pandas as pd"
      ],
      "metadata": {
        "id": "I4zOKhUvw_ig"
      },
      "execution_count": 2,
      "outputs": []
    },
    {
      "cell_type": "code",
      "source": [
        "%pip install kaggle"
      ],
      "metadata": {
        "colab": {
          "base_uri": "https://localhost:8080/"
        },
        "id": "2dAq5WSMyLAF",
        "outputId": "8f1608e7-60c4-4682-9ec2-7a34cf72c6cf"
      },
      "execution_count": 1,
      "outputs": [
        {
          "output_type": "stream",
          "name": "stdout",
          "text": [
            "Requirement already satisfied: kaggle in /usr/local/lib/python3.10/dist-packages (1.6.17)\n",
            "Requirement already satisfied: six>=1.10 in /usr/local/lib/python3.10/dist-packages (from kaggle) (1.16.0)\n",
            "Requirement already satisfied: certifi>=2023.7.22 in /usr/local/lib/python3.10/dist-packages (from kaggle) (2024.8.30)\n",
            "Requirement already satisfied: python-dateutil in /usr/local/lib/python3.10/dist-packages (from kaggle) (2.8.2)\n",
            "Requirement already satisfied: requests in /usr/local/lib/python3.10/dist-packages (from kaggle) (2.32.3)\n",
            "Requirement already satisfied: tqdm in /usr/local/lib/python3.10/dist-packages (from kaggle) (4.66.6)\n",
            "Requirement already satisfied: python-slugify in /usr/local/lib/python3.10/dist-packages (from kaggle) (8.0.4)\n",
            "Requirement already satisfied: urllib3 in /usr/local/lib/python3.10/dist-packages (from kaggle) (2.2.3)\n",
            "Requirement already satisfied: bleach in /usr/local/lib/python3.10/dist-packages (from kaggle) (6.2.0)\n",
            "Requirement already satisfied: webencodings in /usr/local/lib/python3.10/dist-packages (from bleach->kaggle) (0.5.1)\n",
            "Requirement already satisfied: text-unidecode>=1.3 in /usr/local/lib/python3.10/dist-packages (from python-slugify->kaggle) (1.3)\n",
            "Requirement already satisfied: charset-normalizer<4,>=2 in /usr/local/lib/python3.10/dist-packages (from requests->kaggle) (3.4.0)\n",
            "Requirement already satisfied: idna<4,>=2.5 in /usr/local/lib/python3.10/dist-packages (from requests->kaggle) (3.10)\n"
          ]
        }
      ]
    },
    {
      "cell_type": "code",
      "source": [
        "from google.colab import files\n",
        "files.upload()  # Upload kaggle.json when prompted\n",
        "\n",
        "# Move kaggle.json to the .kaggle directory\n",
        "!mkdir -p ~/.kaggle\n",
        "!mv kaggle.json ~/.kaggle/\n",
        "!chmod 600 ~/.kaggle/kaggle.json"
      ],
      "metadata": {
        "colab": {
          "base_uri": "https://localhost:8080/",
          "height": 73
        },
        "id": "uhC4QXo_z2c-",
        "outputId": "c5681955-1d79-4856-b007-280f54ca8709"
      },
      "execution_count": 3,
      "outputs": [
        {
          "output_type": "display_data",
          "data": {
            "text/plain": [
              "<IPython.core.display.HTML object>"
            ],
            "text/html": [
              "\n",
              "     <input type=\"file\" id=\"files-b7dea729-0388-427b-95dd-3f0d4045fa19\" name=\"files[]\" multiple disabled\n",
              "        style=\"border:none\" />\n",
              "     <output id=\"result-b7dea729-0388-427b-95dd-3f0d4045fa19\">\n",
              "      Upload widget is only available when the cell has been executed in the\n",
              "      current browser session. Please rerun this cell to enable.\n",
              "      </output>\n",
              "      <script>// Copyright 2017 Google LLC\n",
              "//\n",
              "// Licensed under the Apache License, Version 2.0 (the \"License\");\n",
              "// you may not use this file except in compliance with the License.\n",
              "// You may obtain a copy of the License at\n",
              "//\n",
              "//      http://www.apache.org/licenses/LICENSE-2.0\n",
              "//\n",
              "// Unless required by applicable law or agreed to in writing, software\n",
              "// distributed under the License is distributed on an \"AS IS\" BASIS,\n",
              "// WITHOUT WARRANTIES OR CONDITIONS OF ANY KIND, either express or implied.\n",
              "// See the License for the specific language governing permissions and\n",
              "// limitations under the License.\n",
              "\n",
              "/**\n",
              " * @fileoverview Helpers for google.colab Python module.\n",
              " */\n",
              "(function(scope) {\n",
              "function span(text, styleAttributes = {}) {\n",
              "  const element = document.createElement('span');\n",
              "  element.textContent = text;\n",
              "  for (const key of Object.keys(styleAttributes)) {\n",
              "    element.style[key] = styleAttributes[key];\n",
              "  }\n",
              "  return element;\n",
              "}\n",
              "\n",
              "// Max number of bytes which will be uploaded at a time.\n",
              "const MAX_PAYLOAD_SIZE = 100 * 1024;\n",
              "\n",
              "function _uploadFiles(inputId, outputId) {\n",
              "  const steps = uploadFilesStep(inputId, outputId);\n",
              "  const outputElement = document.getElementById(outputId);\n",
              "  // Cache steps on the outputElement to make it available for the next call\n",
              "  // to uploadFilesContinue from Python.\n",
              "  outputElement.steps = steps;\n",
              "\n",
              "  return _uploadFilesContinue(outputId);\n",
              "}\n",
              "\n",
              "// This is roughly an async generator (not supported in the browser yet),\n",
              "// where there are multiple asynchronous steps and the Python side is going\n",
              "// to poll for completion of each step.\n",
              "// This uses a Promise to block the python side on completion of each step,\n",
              "// then passes the result of the previous step as the input to the next step.\n",
              "function _uploadFilesContinue(outputId) {\n",
              "  const outputElement = document.getElementById(outputId);\n",
              "  const steps = outputElement.steps;\n",
              "\n",
              "  const next = steps.next(outputElement.lastPromiseValue);\n",
              "  return Promise.resolve(next.value.promise).then((value) => {\n",
              "    // Cache the last promise value to make it available to the next\n",
              "    // step of the generator.\n",
              "    outputElement.lastPromiseValue = value;\n",
              "    return next.value.response;\n",
              "  });\n",
              "}\n",
              "\n",
              "/**\n",
              " * Generator function which is called between each async step of the upload\n",
              " * process.\n",
              " * @param {string} inputId Element ID of the input file picker element.\n",
              " * @param {string} outputId Element ID of the output display.\n",
              " * @return {!Iterable<!Object>} Iterable of next steps.\n",
              " */\n",
              "function* uploadFilesStep(inputId, outputId) {\n",
              "  const inputElement = document.getElementById(inputId);\n",
              "  inputElement.disabled = false;\n",
              "\n",
              "  const outputElement = document.getElementById(outputId);\n",
              "  outputElement.innerHTML = '';\n",
              "\n",
              "  const pickedPromise = new Promise((resolve) => {\n",
              "    inputElement.addEventListener('change', (e) => {\n",
              "      resolve(e.target.files);\n",
              "    });\n",
              "  });\n",
              "\n",
              "  const cancel = document.createElement('button');\n",
              "  inputElement.parentElement.appendChild(cancel);\n",
              "  cancel.textContent = 'Cancel upload';\n",
              "  const cancelPromise = new Promise((resolve) => {\n",
              "    cancel.onclick = () => {\n",
              "      resolve(null);\n",
              "    };\n",
              "  });\n",
              "\n",
              "  // Wait for the user to pick the files.\n",
              "  const files = yield {\n",
              "    promise: Promise.race([pickedPromise, cancelPromise]),\n",
              "    response: {\n",
              "      action: 'starting',\n",
              "    }\n",
              "  };\n",
              "\n",
              "  cancel.remove();\n",
              "\n",
              "  // Disable the input element since further picks are not allowed.\n",
              "  inputElement.disabled = true;\n",
              "\n",
              "  if (!files) {\n",
              "    return {\n",
              "      response: {\n",
              "        action: 'complete',\n",
              "      }\n",
              "    };\n",
              "  }\n",
              "\n",
              "  for (const file of files) {\n",
              "    const li = document.createElement('li');\n",
              "    li.append(span(file.name, {fontWeight: 'bold'}));\n",
              "    li.append(span(\n",
              "        `(${file.type || 'n/a'}) - ${file.size} bytes, ` +\n",
              "        `last modified: ${\n",
              "            file.lastModifiedDate ? file.lastModifiedDate.toLocaleDateString() :\n",
              "                                    'n/a'} - `));\n",
              "    const percent = span('0% done');\n",
              "    li.appendChild(percent);\n",
              "\n",
              "    outputElement.appendChild(li);\n",
              "\n",
              "    const fileDataPromise = new Promise((resolve) => {\n",
              "      const reader = new FileReader();\n",
              "      reader.onload = (e) => {\n",
              "        resolve(e.target.result);\n",
              "      };\n",
              "      reader.readAsArrayBuffer(file);\n",
              "    });\n",
              "    // Wait for the data to be ready.\n",
              "    let fileData = yield {\n",
              "      promise: fileDataPromise,\n",
              "      response: {\n",
              "        action: 'continue',\n",
              "      }\n",
              "    };\n",
              "\n",
              "    // Use a chunked sending to avoid message size limits. See b/62115660.\n",
              "    let position = 0;\n",
              "    do {\n",
              "      const length = Math.min(fileData.byteLength - position, MAX_PAYLOAD_SIZE);\n",
              "      const chunk = new Uint8Array(fileData, position, length);\n",
              "      position += length;\n",
              "\n",
              "      const base64 = btoa(String.fromCharCode.apply(null, chunk));\n",
              "      yield {\n",
              "        response: {\n",
              "          action: 'append',\n",
              "          file: file.name,\n",
              "          data: base64,\n",
              "        },\n",
              "      };\n",
              "\n",
              "      let percentDone = fileData.byteLength === 0 ?\n",
              "          100 :\n",
              "          Math.round((position / fileData.byteLength) * 100);\n",
              "      percent.textContent = `${percentDone}% done`;\n",
              "\n",
              "    } while (position < fileData.byteLength);\n",
              "  }\n",
              "\n",
              "  // All done.\n",
              "  yield {\n",
              "    response: {\n",
              "      action: 'complete',\n",
              "    }\n",
              "  };\n",
              "}\n",
              "\n",
              "scope.google = scope.google || {};\n",
              "scope.google.colab = scope.google.colab || {};\n",
              "scope.google.colab._files = {\n",
              "  _uploadFiles,\n",
              "  _uploadFilesContinue,\n",
              "};\n",
              "})(self);\n",
              "</script> "
            ]
          },
          "metadata": {}
        },
        {
          "output_type": "stream",
          "name": "stdout",
          "text": [
            "Saving kaggle.json to kaggle.json\n"
          ]
        }
      ]
    },
    {
      "cell_type": "markdown",
      "source": [],
      "metadata": {
        "id": "vxvdn6fK0cM2"
      }
    },
    {
      "cell_type": "code",
      "source": [
        "!kaggle datasets download -d aryansingh0909/nyt-articles-21m-2000-present"
      ],
      "metadata": {
        "colab": {
          "base_uri": "https://localhost:8080/"
        },
        "id": "h-P3jyfT0E72",
        "outputId": "93958038-2e21-4ee0-c3a0-bb507dbb093f"
      },
      "execution_count": 4,
      "outputs": [
        {
          "output_type": "stream",
          "name": "stdout",
          "text": [
            "Dataset URL: https://www.kaggle.com/datasets/aryansingh0909/nyt-articles-21m-2000-present\n",
            "License(s): CC0-1.0\n",
            "Downloading nyt-articles-21m-2000-present.zip to /content\n",
            "100% 872M/873M [00:15<00:00, 92.9MB/s]\n",
            "100% 873M/873M [00:15<00:00, 60.4MB/s]\n"
          ]
        }
      ]
    },
    {
      "cell_type": "code",
      "source": [
        "import zipfile\n",
        "path = \"/content/NYT DATA\"\n",
        "with zipfile.ZipFile('nyt-articles-21m-2000-present.zip', 'r') as zip_ref:\n",
        "    zip_ref.extractall(path)  # Adjust the path if necessary"
      ],
      "metadata": {
        "id": "nzk2-TBp0MPO"
      },
      "execution_count": 6,
      "outputs": []
    },
    {
      "cell_type": "code",
      "source": [
        "import os\n",
        "os.listdir(path)"
      ],
      "metadata": {
        "colab": {
          "base_uri": "https://localhost:8080/"
        },
        "id": "bJzao48vJbtH",
        "outputId": "5ba4447e-471b-400e-cf57-3df461bd8a78"
      },
      "execution_count": 8,
      "outputs": [
        {
          "output_type": "execute_result",
          "data": {
            "text/plain": [
              "['nyt-metadata.csv', 'negative-words.txt', 'positive-words.txt']"
            ]
          },
          "metadata": {},
          "execution_count": 8
        }
      ]
    },
    {
      "cell_type": "code",
      "source": [
        "df = pd.read_csv(path+\"/nyt-metadata.csv\")"
      ],
      "metadata": {
        "colab": {
          "base_uri": "https://localhost:8080/"
        },
        "id": "9UQ8RBQhIquw",
        "outputId": "490861a0-9e0e-4f5f-d5fb-877ac9818f94"
      },
      "execution_count": 10,
      "outputs": [
        {
          "output_type": "stream",
          "name": "stderr",
          "text": [
            "<ipython-input-10-3be1698fda21>:1: DtypeWarning: Columns (5) have mixed types. Specify dtype option on import or set low_memory=False.\n",
            "  df = pd.read_csv(path+\"/nyt-metadata.csv\")\n"
          ]
        }
      ]
    },
    {
      "cell_type": "code",
      "source": [
        "articles_only = df[df['document_type'] == 'article']\n",
        "articles_only = articles_only.dropna(subset=['section_name'])\n",
        "print(articles_only['section_name'].unique())"
      ],
      "metadata": {
        "colab": {
          "base_uri": "https://localhost:8080/"
        },
        "id": "7nF8w7QUAmiv",
        "outputId": "f04ce895-ece7-48f7-8b09-3d90fa97e1e8"
      },
      "execution_count": 11,
      "outputs": [
        {
          "output_type": "stream",
          "name": "stdout",
          "text": [
            "['Sports' 'Opinion' 'U.S.' 'Archives' 'New York' 'Business Day'\n",
            " 'Technology' 'Arts' 'Books' 'World' 'Theater' 'Education' 'Movies'\n",
            " 'Travel' 'Style' 'Real Estate' 'Magazine' 'Week in Review' 'Automobiles'\n",
            " 'Fashion & Style' 'Health' 'Science' 'Job Market' 'Food' 'Home & Garden'\n",
            " 'T Magazine' 'Giving' 'Obituaries' 'The Learning Network' 'membercenter'\n",
            " 'Climate' 'Your Money' 'Corrections' 'Homepage' 'readersopinions'\n",
            " 'Crosswords & Games' 'Great Homes & Destinations' 'Multimedia/Photos'\n",
            " 'Washington' 'College' 'none' 'Blogs' 'Times Topics' 'Well' 'UrbanEye'\n",
            " \"Critic's Choice\" 'xword' 'Sunday Review' 'Public Editor' 'Booming'\n",
            " 'International Home' 'The Upshot' 'Times Insider' 'NYT Now' 'Universal'\n",
            " 'Topics' 'Today’s Paper' 'Podcasts' 'Briefing' 'Watching' 'Admin'\n",
            " 'Smarter Living' 'Reader Center' 'Lens' 'Video' 'Neediest Cases'\n",
            " 'Parenting' 'The Weekly' 'Guides' 'At Home' 'en Español' 'Special Series'\n",
            " 'The New York Times Presents' 'Headway' 'Book Review' 'Weather']\n"
          ]
        }
      ]
    },
    {
      "cell_type": "markdown",
      "source": [
        "I think we should get rid of Obituaries because there is no really good/bad sentiment. Member center because it just seems like maintenance stuff. Archives because they are from a bunch of different print sections so for our purpose it does not give value (cant easily separate topics).Corrections because it is just correcting a previous article. May give duplicated points for articles. Crosswords & games because while some are good articles.. too many are about the actual crosswords and games in the NYT and have nonsense abstracts.'xword' is crossword answers that was only used 3 times. I want to get rid of 'Today's Paper but am having issues. Reader Center is the NYT responding to reader comments basically. I think thiis could double sentiments for the same article again. Homepage is short and useless. 'readersopinions' is summaries from reader forums-- again I think it would repeat the content of some articles. 'Admin' seems to be a mix between admin stuff for corrections and cooking stuff?? I think we'll have to review this one more maybe. For now, removing. 'Week in Review' will 1. have repeated sentiments from articles that week, 2. Will have a mix of sentiments from all the articles that week. 'Critic's Choice' is basically like little riddles-- OUT.\n"
      ],
      "metadata": {
        "id": "HlHnXcUiLbtA"
      }
    },
    {
      "cell_type": "code",
      "source": [
        "curr_sect = 'Podcasts'\n",
        "removeList = ['Obituaries', 'membercenter','Archives','Corrections','Crosswords & Games','none','xword','Reader Center','Homepage','readersopinions','Admin','Week in Review','Critic\\'s Choice','Topics']\n",
        "\n",
        "rowWithSelection = articles_only[articles_only['section_name'] == curr_sect]\n",
        "rowWithSelection.head(5)\n",
        "# print(rowWithSelection.head(1)['abstract'].values[0])\n",
        "print(rowWithSelection.iloc[20]['abstract'])\n",
        "# print(rowWithSelection.iloc[5]['web_url'])"
      ],
      "metadata": {
        "colab": {
          "base_uri": "https://localhost:8080/"
        },
        "id": "KHyn5wU0Dd4h",
        "outputId": "d5ecf4f9-8433-4658-b22e-5f2258a81002"
      },
      "execution_count": 42,
      "outputs": [
        {
          "output_type": "stream",
          "name": "stdout",
          "text": [
            "David Barstow and Susanne Craig explain how they cracked open the biggest story of the campaign, overcoming nagging doubts to nail down Donald Trump’s tax returns.\n"
          ]
        }
      ]
    },
    {
      "cell_type": "code",
      "source": [
        "from transformers import pipeline\n"
      ],
      "metadata": {
        "id": "a-lx3MiERqYm"
      },
      "execution_count": 35,
      "outputs": []
    },
    {
      "cell_type": "code",
      "source": [
        "val = 8\n",
        "# Load a sentiment-analysis pipeline\n",
        "sentiment_pipeline = pipeline(\"sentiment-analysis\")\n",
        "\n",
        "# Text to analyze\n",
        "text = df['snippet'][val]\n",
        "print(text)\n",
        "\n",
        "# Run sentiment analysis\n",
        "result = sentiment_pipeline(text)[0]\n",
        "\n",
        "print(result)"
      ],
      "metadata": {
        "colab": {
          "base_uri": "https://localhost:8080/"
        },
        "id": "82747P2URk4Z",
        "outputId": "5bff93b3-0128-4b0c-b2c8-18fc7320aaa7"
      },
      "execution_count": 18,
      "outputs": [
        {
          "output_type": "stream",
          "name": "stderr",
          "text": [
            "No model was supplied, defaulted to distilbert/distilbert-base-uncased-finetuned-sst-2-english and revision af0f99b (https://huggingface.co/distilbert/distilbert-base-uncased-finetuned-sst-2-english).\n",
            "Using a pipeline without specifying a model name and revision in production is not recommended.\n"
          ]
        },
        {
          "output_type": "stream",
          "name": "stdout",
          "text": [
            "Judge D Irvin Couvillion rules that Burton W Kanter, one of nation's most prominent tax lawyers, was 'architect' of long-running kickback and tax-evasion scheme in which money was siphoned from funds managed by Prudential and Travelers insurance c...\n",
            "{'label': 'NEGATIVE', 'score': 0.9134017825126648}\n"
          ]
        }
      ]
    },
    {
      "cell_type": "code",
      "source": [
        "#cleaning\n",
        "print(\"Starting Shape: \",df.shape)\n",
        "df = df.dropna(subset = ['abstract'])\n",
        "print(\"Shape after dropping NaN for abstract:\",df.shape) #One of these must have a value to do a sentiment analysis I think we prioritize abstract then snippet then lead\n",
        "df = df.dropna(subset = ['keywords'])\n",
        "print(\"Shape after dropping for keywords:\",df.shape) #need key words to do keyword analysis\n",
        "df = df.dropna(subset = ['section_name'])  #no awesome mapping for print section to section name. Only keeping section name\n",
        "print(\"Shape after dropping for print section or section name:\",df.shape) #If we want to compare sections, then at least one of these must have a value\n",
        "df = df.dropna(subset = ['web_url','headline'])\n",
        "print(\"Shape after dropping for web_url and headline:\",df.shape) #want to title and link articles if user wants to read the articles from certain keywords\n",
        "df = df = df[df['document_type'] == 'article']\n",
        "print(\"Shape after only choosing articles:\",df.shape) #we only want articles right? Not audio or multimedia?\n",
        "df = df.dropna(subset = ['pub_date'])\n",
        "print(\"Shape after dropping for pub date:\", df.shape) #need a date to plot on a timeline\n",
        "df = df.dropna(subset=['_id'])\n",
        "print(\"Shape after dropping for id:\",df.shape)\n",
        "df = df[~((df['section_name'] == 'The Learning Network') & (df['abstract'].str.contains('.menu', na=False)))]\n",
        "print(\"Shape after cleaning Learning Network\",df.shape)\n",
        "df = df[~df['section_name'].isin(removeList)]\n",
        "print(\"Shape after removing removeList from column (section_name):\",df.shape)\n"
      ],
      "metadata": {
        "colab": {
          "base_uri": "https://localhost:8080/"
        },
        "id": "3ySnDsDEum2s",
        "outputId": "6da5c4f4-7eee-42f1-9308-9865da0cc4fc"
      },
      "execution_count": 43,
      "outputs": [
        {
          "output_type": "stream",
          "name": "stdout",
          "text": [
            "Starting Shape:  (1904974, 20)\n",
            "Shape after dropping NaN for abstract: (1904974, 20)\n",
            "Shape after dropping for keywords: (1904974, 20)\n",
            "Shape after dropping for print section or section name: (1904974, 20)\n",
            "Shape after dropping for web_url and headline: (1904974, 20)\n",
            "Shape after only choosing articles: (1904974, 20)\n",
            "Shape after dropping for pub date: (1904974, 20)\n",
            "Shape after dropping for id: (1904974, 20)\n",
            "Shape after cleaning Learning Network (1904974, 20)\n",
            "Shape after removing removeList from column (section_name): (1904973, 20)\n"
          ]
        }
      ]
    },
    {
      "cell_type": "code",
      "source": [
        "articles = df #work with smaller set to make sure the analysis works before we use for\n",
        "sentiment_pipeline = pipeline(\"sentiment-analysis\") #create sentiment pipeline"
      ],
      "metadata": {
        "colab": {
          "base_uri": "https://localhost:8080/"
        },
        "id": "w4siVVFmxowv",
        "outputId": "fe679951-8137-4140-c996-e7b03db4b36d"
      },
      "execution_count": 54,
      "outputs": [
        {
          "output_type": "stream",
          "name": "stderr",
          "text": [
            "No model was supplied, defaulted to distilbert/distilbert-base-uncased-finetuned-sst-2-english and revision af0f99b (https://huggingface.co/distilbert/distilbert-base-uncased-finetuned-sst-2-english).\n",
            "Using a pipeline without specifying a model name and revision in production is not recommended.\n",
            "/usr/local/lib/python3.10/dist-packages/transformers/tokenization_utils_base.py:1601: FutureWarning: `clean_up_tokenization_spaces` was not set. It will be set to `True` by default. This behavior will be depracted in transformers v4.45, and will be then set to `False` by default. For more details check this issue: https://github.com/huggingface/transformers/issues/31884\n",
            "  warnings.warn(\n"
          ]
        }
      ]
    },
    {
      "cell_type": "code",
      "source": [
        "#Negative : -1 , POSITIVE: 1\n",
        "#create new column in df with pos/neg and another with score\n",
        "articles['sentiment'] = 0\n",
        "articles['sentiment_score'] = 0.0\n",
        "error_indices = []\n",
        "\n",
        "for index,row in articles.iterrows():\n",
        "  try:\n",
        "    sentiment = sentiment_pipeline(row['abstract'])[0]\n",
        "    articles.at[index,'sentiment'] = 1 if sentiment['label'] == 'POSITIVE' else -1\n",
        "    articles.at[index,'sentiment_score'] = sentiment['score']\n",
        "  except Exception as e:\n",
        "    print(f\"An unexpected error occurred: {e}\")\n",
        "    error_indices.extend(articles.index[articles['_id'].str.contains(row['_id'])].tolist())\n",
        "\n",
        "print(\"Error Indices:\\n\",error_indices)"
      ],
      "metadata": {
        "colab": {
          "base_uri": "https://localhost:8080/"
        },
        "id": "lz_9xcGQx0Gc",
        "outputId": "64e99269-6852-401a-f817-f0e857d54faf"
      },
      "execution_count": null,
      "outputs": [
        {
          "output_type": "stream",
          "name": "stderr",
          "text": [
            "Token indices sequence length is longer than the specified maximum sequence length for this model (1043 > 512). Running this sequence through the model will result in indexing errors\n"
          ]
        },
        {
          "output_type": "stream",
          "name": "stdout",
          "text": [
            "An unexpected error occurred: The size of tensor a (1043) must match the size of tensor b (512) at non-singleton dimension 1\n",
            "An unexpected error occurred: The size of tensor a (1406) must match the size of tensor b (512) at non-singleton dimension 1\n",
            "An unexpected error occurred: The size of tensor a (1149) must match the size of tensor b (512) at non-singleton dimension 1\n",
            "An unexpected error occurred: The size of tensor a (2216) must match the size of tensor b (512) at non-singleton dimension 1\n"
          ]
        }
      ]
    }
  ]
}