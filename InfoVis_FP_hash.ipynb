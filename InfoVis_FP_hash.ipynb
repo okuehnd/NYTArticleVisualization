{
  "nbformat": 4,
  "nbformat_minor": 0,
  "metadata": {
    "colab": {
      "provenance": [],
      "mount_file_id": "1B5NnHu0kV3NbJxzfNHYoLu7uAYkei5XB",
      "authorship_tag": "ABX9TyNcdbJhjEbPTYepO3yLmj1k",
      "include_colab_link": true
    },
    "kernelspec": {
      "name": "python3",
      "display_name": "Python 3"
    },
    "language_info": {
      "name": "python"
    }
  },
  "cells": [
    {
      "cell_type": "markdown",
      "metadata": {
        "id": "view-in-github",
        "colab_type": "text"
      },
      "source": [
        "<a href=\"https://colab.research.google.com/github/okuehnd/NYTArticleVisualization/blob/main/InfoVis_FP_hash.ipynb\" target=\"_parent\"><img src=\"https://colab.research.google.com/assets/colab-badge.svg\" alt=\"Open In Colab\"/></a>"
      ]
    },
    {
      "cell_type": "code",
      "execution_count": 1,
      "metadata": {
        "id": "4v1BfDoVWLRb"
      },
      "outputs": [],
      "source": [
        "import pandas as pd\n",
        "import os\n",
        "import ast\n",
        "import gc\n",
        "from IPython.display import clear_output"
      ]
    },
    {
      "cell_type": "code",
      "source": [
        "csv_filename = '/content/drive/MyDrive/Colab Notebooks/InfoVis_FinalProject/InfoVisFinalProject/sentiment_nyt_clean.csv'\n",
        "original_df = pd.read_csv(csv_filename)"
      ],
      "metadata": {
        "colab": {
          "base_uri": "https://localhost:8080/"
        },
        "id": "r6Q68XPGYTug",
        "outputId": "85d39542-6e3b-454c-ff83-7ea24f2b8f2c"
      },
      "execution_count": 2,
      "outputs": [
        {
          "output_type": "stream",
          "name": "stderr",
          "text": [
            "<ipython-input-2-27489aa516d7>:2: DtypeWarning: Columns (5) have mixed types. Specify dtype option on import or set low_memory=False.\n",
            "  original_df = pd.read_csv(csv_filename)\n"
          ]
        }
      ]
    },
    {
      "cell_type": "code",
      "source": [
        "articles = original_df.copy()"
      ],
      "metadata": {
        "id": "gSUaCtPamuv3"
      },
      "execution_count": 3,
      "outputs": []
    },
    {
      "cell_type": "code",
      "source": [
        "def clean_article_memory():\n",
        "  global articles\n",
        "  articles_temp = articles.copy()\n",
        "  del articles\n",
        "  articles = articles_temp.copy()\n",
        "  del articles_temp\n",
        "  print((articles.memory_usage(deep=True)).sum())"
      ],
      "metadata": {
        "id": "2DTnnbGn69dH"
      },
      "execution_count": 4,
      "outputs": []
    },
    {
      "cell_type": "code",
      "source": [
        "pd.set_option('display.max_colwidth', 50)\n",
        "articles.columns = ['abstract', 'web_url', 'snippet', 'lead_paragraph', 'print_section', 'print_page', 'source', 'multimedia', 'headline', 'keywords', 'pub_date', 'document_type', 'news_desk', 'section_name', 'byline', 'type_of_material', '_id', 'word_count', 'uri', 'subsection_name','sentiment','sentiment_score']"
      ],
      "metadata": {
        "id": "TyDscCJzZYTn"
      },
      "execution_count": 5,
      "outputs": []
    },
    {
      "cell_type": "code",
      "source": [
        "clean_article_memory()"
      ],
      "metadata": {
        "colab": {
          "base_uri": "https://localhost:8080/"
        },
        "id": "-zQzwJOb0e2S",
        "outputId": "f6e3f4bf-8004-4f0b-aa59-60b79c7e5dc1"
      },
      "execution_count": 6,
      "outputs": [
        {
          "output_type": "stream",
          "name": "stdout",
          "text": [
            "6480418093\n"
          ]
        }
      ]
    },
    {
      "cell_type": "code",
      "source": [
        "print(\"Shape before dropping NaN:\", original_df.shape)\n",
        "articles = articles[articles['keywords'].apply(lambda x: x != '[]')]\n",
        "print(\"Shape after dropping empty keyword lists:\", articles.shape)"
      ],
      "metadata": {
        "colab": {
          "base_uri": "https://localhost:8080/"
        },
        "id": "Ac5mr4-cguC8",
        "outputId": "658a2837-7780-49b9-f4f1-bcede641ae66"
      },
      "execution_count": 7,
      "outputs": [
        {
          "output_type": "stream",
          "name": "stdout",
          "text": [
            "Shape before dropping NaN: (1898468, 22)\n",
            "Shape after dropping empty keyword lists: (1518292, 22)\n"
          ]
        }
      ]
    },
    {
      "cell_type": "code",
      "source": [
        "keep_columns = ['abstract','web_url','headline','keywords','pub_date','section_name','sentiment','sentiment_score']\n",
        "articles = articles.loc[:,keep_columns]"
      ],
      "metadata": {
        "id": "UGTggjR2cw23"
      },
      "execution_count": 8,
      "outputs": []
    },
    {
      "cell_type": "code",
      "source": [
        "clean_article_memory()"
      ],
      "metadata": {
        "colab": {
          "base_uri": "https://localhost:8080/"
        },
        "id": "1GJk-Pc30iHj",
        "outputId": "9f4f3af6-ef66-4808-e8a0-a3b2a5d1224c"
      },
      "execution_count": 9,
      "outputs": [
        {
          "output_type": "stream",
          "name": "stdout",
          "text": [
            "2090278053\n"
          ]
        }
      ]
    },
    {
      "cell_type": "code",
      "source": [
        "articles['sentiment'] = articles['sentiment'].astype('category')\n",
        "articles['sentiment'] = articles['sentiment'].copy()\n",
        "articles['section_name'] = articles['section_name'].astype('category')\n",
        "articles['section_name'] = articles['section_name'].copy()"
      ],
      "metadata": {
        "id": "jniYlJieuxDN"
      },
      "execution_count": 10,
      "outputs": []
    },
    {
      "cell_type": "code",
      "source": [
        "clean_article_memory()"
      ],
      "metadata": {
        "colab": {
          "base_uri": "https://localhost:8080/"
        },
        "id": "WUsgTmxb0jGn",
        "outputId": "2e4aa031-d737-4da1-83c0-725684de8912"
      },
      "execution_count": 11,
      "outputs": [
        {
          "output_type": "stream",
          "name": "stdout",
          "text": [
            "1983727842\n"
          ]
        }
      ]
    },
    {
      "cell_type": "code",
      "source": [
        "pd.set_option('display.max_colwidth', None)"
      ],
      "metadata": {
        "id": "1MRlBLd3d9i9"
      },
      "execution_count": 12,
      "outputs": []
    },
    {
      "cell_type": "code",
      "source": [
        "not_strings = []\n",
        "articles['headline'] = articles['headline'].apply(lambda x: (ast.literal_eval(x))['main'] if isinstance(x, str) else x)\n",
        "# articles['headline'] = articles['headline'].apply(lambda x: x['main'])"
      ],
      "metadata": {
        "id": "lH0UCbcWgdQT"
      },
      "execution_count": 13,
      "outputs": []
    },
    {
      "cell_type": "code",
      "source": [
        "clean_article_memory()"
      ],
      "metadata": {
        "colab": {
          "base_uri": "https://localhost:8080/"
        },
        "id": "MwNnQ4tlyW3n",
        "outputId": "a6113bd2-d658-4a9c-ae69-96290abe0956"
      },
      "execution_count": 14,
      "outputs": [
        {
          "output_type": "stream",
          "name": "stdout",
          "text": [
            "1701412496\n"
          ]
        }
      ]
    },
    {
      "cell_type": "code",
      "source": [
        "articles['keywords'] = articles['keywords'].apply(lambda x: [d['value'] for d in ast.literal_eval(x) if 'value' in d]  if isinstance(x, str) else x)"
      ],
      "metadata": {
        "id": "QoXx5tVQ6RUA"
      },
      "execution_count": 15,
      "outputs": []
    },
    {
      "cell_type": "code",
      "source": [
        "clean_article_memory()"
      ],
      "metadata": {
        "colab": {
          "base_uri": "https://localhost:8080/"
        },
        "id": "JnuhZKkyyeV9",
        "outputId": "6153b1b7-44cb-435c-b82a-115a3024f1cf"
      },
      "execution_count": 16,
      "outputs": [
        {
          "output_type": "stream",
          "name": "stdout",
          "text": [
            "1160180967\n"
          ]
        }
      ]
    },
    {
      "cell_type": "code",
      "source": [
        "\n",
        "articles.head(4)"
      ],
      "metadata": {
        "colab": {
          "base_uri": "https://localhost:8080/",
          "height": 1000
        },
        "id": "-mYFdJAWnNkI",
        "outputId": "deb7b8ad-cb2a-42e6-d11a-e3c8b5e494dc"
      },
      "execution_count": 58,
      "outputs": [
        {
          "output_type": "execute_result",
          "data": {
            "text/plain": [
              "                                                                                                                                                                                                                                                                                                                                                                                                                                                                                                                                                                                                                                                                                                                                                                                                                                                                              abstract  \\\n",
              "0                                                                                                                                                                                                                                                                                                                                                                                                                                                                                                                                                                  Many experts on Y2K computer problem report that Internet performed impressively through rollover from 1999 to 2000 even if it did sag at times in isolated sites as users turned to e-mail messages, Web sites, newsgroups and electronic chat rooms to track arrival of Year 2000 in more and more time zones (M)   \n",
              "2                                                                                                                                                                                                                                                                                                                                                                                                                                                                                                                                                                                                                                                                                                                     Article on Florida State offensive tackle Todd Williams notes that he earned football scholarship even though he was living on streets when he was 15; photo (M)   \n",
              "3  Judge D Irvin Couvillion rules that Burton W Kanter, one of nation's most prominent tax lawyers, was 'architect' of long-running kickback and tax-evasion scheme in which money was siphoned from funds managed by Prudential and Travelers insurance companies; concludes that Internal Revenue Service overwhelmingly proved its civil fraud case against Kanter; Tax Court holds that $13 million in kickbacks were paid from 1972 through 1988 by four developers and another man to Claude Ballard and Robert Lisle, who were senior executives with Prudential overseeing its real estate investments; court says Ballard and Lisle then steered financing and contracts to developers, and gave 10 percent of kickbacks to Kanter; says kickbacks were funneled to 'sham' companies that Kanter controlled; Kanter denies any wrongdoing and says he will appeal; photos (M)   \n",
              "4                                                                                                                                                                                                                                                                                                                                                                                                                                                                                                                                                                                     Joshua Davis, high school student from Montclair, NJ, has taken front page of newspaper for last 1,000 days of 1900's and created origami cranes for collection that he says will symbolize end of 1,000 years; his plan, after completing 1,000th crane, is to donate them to museum; photo (M)   \n",
              "\n",
              "                                                                                                                  web_url  \\\n",
              "0  https://www.nytimes.com/2000/01/01/us/1-1-00-technology-2000-momentous-relief-internet-s-cheering-squad-nervously.html   \n",
              "2                https://www.nytimes.com/2000/01/01/sports/college-football-from-homeless-to-a-home-at-florida-state.html   \n",
              "3                    https://www.nytimes.com/2000/01/01/business/tax-lawyer-called-architect-of-a-tax-evasion-scheme.html   \n",
              "4                             https://www.nytimes.com/2000/01/01/nyregion/folds-of-newspapers-yield-symbols-of-peace.html   \n",
              "\n",
              "                                                     headline  \\\n",
              "0           Internet's Cheering Squad Nervously Watches Clock   \n",
              "2  COLLEGE FOOTBALL; From Homeless to a Home at Florida State   \n",
              "3         Tax Lawyer Called Architect of a Tax-Evasion Scheme   \n",
              "4                  Folds of Newspapers Yield Symbols of Peace   \n",
              "\n",
              "                                                                                                                                                                                                       keywords  \\\n",
              "0                                                                                                                         [Electronic Mail, COMPUTER SOFTWARE, TWO THOUSAND (YEAR), Computers and the Internet]   \n",
              "2  [Florida State University, VIRGINIA POLYTECHNIC INSTITUTE & STATE UNIVERSITY, Ettkin, Brian, Williams, Todd, Football, Biographical Information, Scholarships and Fellowships, Homeless Persons, Sugar Bowl]   \n",
              "3                                    [Travelers Insurance Co, Internal Revenue Service, Prudential Insurance Co, Couvillion, D Irvin, Kanter, Burton W, Tax Evasion, Taxation, Bribery, Decisions and Verdicts]   \n",
              "4                                                                                                                           [Montclair (NJ), DAVIS, JOSHUA, Newspapers, New Year, Origami, TWO THOUSAND (YEAR)]   \n",
              "\n",
              "                    pub_date  section_name sentiment  sentiment_score  \n",
              "0  2000-01-01 05:00:00+00:00          U.S.         1         0.992791  \n",
              "2  2000-01-01 05:00:00+00:00        Sports         1         0.968833  \n",
              "3  2000-01-01 05:00:00+00:00  Business Day        -1         0.959399  \n",
              "4  2000-01-01 05:00:00+00:00      New York         1         0.538960  "
            ],
            "text/html": [
              "\n",
              "  <div id=\"df-5c00facc-2166-40ba-9a8d-a3776c042677\" class=\"colab-df-container\">\n",
              "    <div>\n",
              "<style scoped>\n",
              "    .dataframe tbody tr th:only-of-type {\n",
              "        vertical-align: middle;\n",
              "    }\n",
              "\n",
              "    .dataframe tbody tr th {\n",
              "        vertical-align: top;\n",
              "    }\n",
              "\n",
              "    .dataframe thead th {\n",
              "        text-align: right;\n",
              "    }\n",
              "</style>\n",
              "<table border=\"1\" class=\"dataframe\">\n",
              "  <thead>\n",
              "    <tr style=\"text-align: right;\">\n",
              "      <th></th>\n",
              "      <th>abstract</th>\n",
              "      <th>web_url</th>\n",
              "      <th>headline</th>\n",
              "      <th>keywords</th>\n",
              "      <th>pub_date</th>\n",
              "      <th>section_name</th>\n",
              "      <th>sentiment</th>\n",
              "      <th>sentiment_score</th>\n",
              "    </tr>\n",
              "  </thead>\n",
              "  <tbody>\n",
              "    <tr>\n",
              "      <th>0</th>\n",
              "      <td>Many experts on Y2K computer problem report that Internet performed impressively through rollover from 1999 to 2000 even if it did sag at times in isolated sites as users turned to e-mail messages, Web sites, newsgroups and electronic chat rooms to track arrival of Year 2000 in more and more time zones (M)</td>\n",
              "      <td>https://www.nytimes.com/2000/01/01/us/1-1-00-technology-2000-momentous-relief-internet-s-cheering-squad-nervously.html</td>\n",
              "      <td>Internet's Cheering Squad Nervously Watches Clock</td>\n",
              "      <td>[Electronic Mail, COMPUTER SOFTWARE, TWO THOUSAND (YEAR), Computers and the Internet]</td>\n",
              "      <td>2000-01-01 05:00:00+00:00</td>\n",
              "      <td>U.S.</td>\n",
              "      <td>1</td>\n",
              "      <td>0.992791</td>\n",
              "    </tr>\n",
              "    <tr>\n",
              "      <th>2</th>\n",
              "      <td>Article on Florida State offensive tackle Todd Williams notes that he earned football scholarship even though he was living on streets when he was 15; photo (M)</td>\n",
              "      <td>https://www.nytimes.com/2000/01/01/sports/college-football-from-homeless-to-a-home-at-florida-state.html</td>\n",
              "      <td>COLLEGE FOOTBALL; From Homeless to a Home at Florida State</td>\n",
              "      <td>[Florida State University, VIRGINIA POLYTECHNIC INSTITUTE &amp; STATE UNIVERSITY, Ettkin, Brian, Williams, Todd, Football, Biographical Information, Scholarships and Fellowships, Homeless Persons, Sugar Bowl]</td>\n",
              "      <td>2000-01-01 05:00:00+00:00</td>\n",
              "      <td>Sports</td>\n",
              "      <td>1</td>\n",
              "      <td>0.968833</td>\n",
              "    </tr>\n",
              "    <tr>\n",
              "      <th>3</th>\n",
              "      <td>Judge D Irvin Couvillion rules that Burton W Kanter, one of nation's most prominent tax lawyers, was 'architect' of long-running kickback and tax-evasion scheme in which money was siphoned from funds managed by Prudential and Travelers insurance companies; concludes that Internal Revenue Service overwhelmingly proved its civil fraud case against Kanter; Tax Court holds that $13 million in kickbacks were paid from 1972 through 1988 by four developers and another man to Claude Ballard and Robert Lisle, who were senior executives with Prudential overseeing its real estate investments; court says Ballard and Lisle then steered financing and contracts to developers, and gave 10 percent of kickbacks to Kanter; says kickbacks were funneled to 'sham' companies that Kanter controlled; Kanter denies any wrongdoing and says he will appeal; photos (M)</td>\n",
              "      <td>https://www.nytimes.com/2000/01/01/business/tax-lawyer-called-architect-of-a-tax-evasion-scheme.html</td>\n",
              "      <td>Tax Lawyer Called Architect of a Tax-Evasion Scheme</td>\n",
              "      <td>[Travelers Insurance Co, Internal Revenue Service, Prudential Insurance Co, Couvillion, D Irvin, Kanter, Burton W, Tax Evasion, Taxation, Bribery, Decisions and Verdicts]</td>\n",
              "      <td>2000-01-01 05:00:00+00:00</td>\n",
              "      <td>Business Day</td>\n",
              "      <td>-1</td>\n",
              "      <td>0.959399</td>\n",
              "    </tr>\n",
              "    <tr>\n",
              "      <th>4</th>\n",
              "      <td>Joshua Davis, high school student from Montclair, NJ, has taken front page of newspaper for last 1,000 days of 1900's and created origami cranes for collection that he says will symbolize end of 1,000 years; his plan, after completing 1,000th crane, is to donate them to museum; photo (M)</td>\n",
              "      <td>https://www.nytimes.com/2000/01/01/nyregion/folds-of-newspapers-yield-symbols-of-peace.html</td>\n",
              "      <td>Folds of Newspapers Yield Symbols of Peace</td>\n",
              "      <td>[Montclair (NJ), DAVIS, JOSHUA, Newspapers, New Year, Origami, TWO THOUSAND (YEAR)]</td>\n",
              "      <td>2000-01-01 05:00:00+00:00</td>\n",
              "      <td>New York</td>\n",
              "      <td>1</td>\n",
              "      <td>0.538960</td>\n",
              "    </tr>\n",
              "  </tbody>\n",
              "</table>\n",
              "</div>\n",
              "    <div class=\"colab-df-buttons\">\n",
              "\n",
              "  <div class=\"colab-df-container\">\n",
              "    <button class=\"colab-df-convert\" onclick=\"convertToInteractive('df-5c00facc-2166-40ba-9a8d-a3776c042677')\"\n",
              "            title=\"Convert this dataframe to an interactive table.\"\n",
              "            style=\"display:none;\">\n",
              "\n",
              "  <svg xmlns=\"http://www.w3.org/2000/svg\" height=\"24px\" viewBox=\"0 -960 960 960\">\n",
              "    <path d=\"M120-120v-720h720v720H120Zm60-500h600v-160H180v160Zm220 220h160v-160H400v160Zm0 220h160v-160H400v160ZM180-400h160v-160H180v160Zm440 0h160v-160H620v160ZM180-180h160v-160H180v160Zm440 0h160v-160H620v160Z\"/>\n",
              "  </svg>\n",
              "    </button>\n",
              "\n",
              "  <style>\n",
              "    .colab-df-container {\n",
              "      display:flex;\n",
              "      gap: 12px;\n",
              "    }\n",
              "\n",
              "    .colab-df-convert {\n",
              "      background-color: #E8F0FE;\n",
              "      border: none;\n",
              "      border-radius: 50%;\n",
              "      cursor: pointer;\n",
              "      display: none;\n",
              "      fill: #1967D2;\n",
              "      height: 32px;\n",
              "      padding: 0 0 0 0;\n",
              "      width: 32px;\n",
              "    }\n",
              "\n",
              "    .colab-df-convert:hover {\n",
              "      background-color: #E2EBFA;\n",
              "      box-shadow: 0px 1px 2px rgba(60, 64, 67, 0.3), 0px 1px 3px 1px rgba(60, 64, 67, 0.15);\n",
              "      fill: #174EA6;\n",
              "    }\n",
              "\n",
              "    .colab-df-buttons div {\n",
              "      margin-bottom: 4px;\n",
              "    }\n",
              "\n",
              "    [theme=dark] .colab-df-convert {\n",
              "      background-color: #3B4455;\n",
              "      fill: #D2E3FC;\n",
              "    }\n",
              "\n",
              "    [theme=dark] .colab-df-convert:hover {\n",
              "      background-color: #434B5C;\n",
              "      box-shadow: 0px 1px 3px 1px rgba(0, 0, 0, 0.15);\n",
              "      filter: drop-shadow(0px 1px 2px rgba(0, 0, 0, 0.3));\n",
              "      fill: #FFFFFF;\n",
              "    }\n",
              "  </style>\n",
              "\n",
              "    <script>\n",
              "      const buttonEl =\n",
              "        document.querySelector('#df-5c00facc-2166-40ba-9a8d-a3776c042677 button.colab-df-convert');\n",
              "      buttonEl.style.display =\n",
              "        google.colab.kernel.accessAllowed ? 'block' : 'none';\n",
              "\n",
              "      async function convertToInteractive(key) {\n",
              "        const element = document.querySelector('#df-5c00facc-2166-40ba-9a8d-a3776c042677');\n",
              "        const dataTable =\n",
              "          await google.colab.kernel.invokeFunction('convertToInteractive',\n",
              "                                                    [key], {});\n",
              "        if (!dataTable) return;\n",
              "\n",
              "        const docLinkHtml = 'Like what you see? Visit the ' +\n",
              "          '<a target=\"_blank\" href=https://colab.research.google.com/notebooks/data_table.ipynb>data table notebook</a>'\n",
              "          + ' to learn more about interactive tables.';\n",
              "        element.innerHTML = '';\n",
              "        dataTable['output_type'] = 'display_data';\n",
              "        await google.colab.output.renderOutput(dataTable, element);\n",
              "        const docLink = document.createElement('div');\n",
              "        docLink.innerHTML = docLinkHtml;\n",
              "        element.appendChild(docLink);\n",
              "      }\n",
              "    </script>\n",
              "  </div>\n",
              "\n",
              "\n",
              "<div id=\"df-f84c20e3-4954-4f6f-bfa3-0fa4c08cd610\">\n",
              "  <button class=\"colab-df-quickchart\" onclick=\"quickchart('df-f84c20e3-4954-4f6f-bfa3-0fa4c08cd610')\"\n",
              "            title=\"Suggest charts\"\n",
              "            style=\"display:none;\">\n",
              "\n",
              "<svg xmlns=\"http://www.w3.org/2000/svg\" height=\"24px\"viewBox=\"0 0 24 24\"\n",
              "     width=\"24px\">\n",
              "    <g>\n",
              "        <path d=\"M19 3H5c-1.1 0-2 .9-2 2v14c0 1.1.9 2 2 2h14c1.1 0 2-.9 2-2V5c0-1.1-.9-2-2-2zM9 17H7v-7h2v7zm4 0h-2V7h2v10zm4 0h-2v-4h2v4z\"/>\n",
              "    </g>\n",
              "</svg>\n",
              "  </button>\n",
              "\n",
              "<style>\n",
              "  .colab-df-quickchart {\n",
              "      --bg-color: #E8F0FE;\n",
              "      --fill-color: #1967D2;\n",
              "      --hover-bg-color: #E2EBFA;\n",
              "      --hover-fill-color: #174EA6;\n",
              "      --disabled-fill-color: #AAA;\n",
              "      --disabled-bg-color: #DDD;\n",
              "  }\n",
              "\n",
              "  [theme=dark] .colab-df-quickchart {\n",
              "      --bg-color: #3B4455;\n",
              "      --fill-color: #D2E3FC;\n",
              "      --hover-bg-color: #434B5C;\n",
              "      --hover-fill-color: #FFFFFF;\n",
              "      --disabled-bg-color: #3B4455;\n",
              "      --disabled-fill-color: #666;\n",
              "  }\n",
              "\n",
              "  .colab-df-quickchart {\n",
              "    background-color: var(--bg-color);\n",
              "    border: none;\n",
              "    border-radius: 50%;\n",
              "    cursor: pointer;\n",
              "    display: none;\n",
              "    fill: var(--fill-color);\n",
              "    height: 32px;\n",
              "    padding: 0;\n",
              "    width: 32px;\n",
              "  }\n",
              "\n",
              "  .colab-df-quickchart:hover {\n",
              "    background-color: var(--hover-bg-color);\n",
              "    box-shadow: 0 1px 2px rgba(60, 64, 67, 0.3), 0 1px 3px 1px rgba(60, 64, 67, 0.15);\n",
              "    fill: var(--button-hover-fill-color);\n",
              "  }\n",
              "\n",
              "  .colab-df-quickchart-complete:disabled,\n",
              "  .colab-df-quickchart-complete:disabled:hover {\n",
              "    background-color: var(--disabled-bg-color);\n",
              "    fill: var(--disabled-fill-color);\n",
              "    box-shadow: none;\n",
              "  }\n",
              "\n",
              "  .colab-df-spinner {\n",
              "    border: 2px solid var(--fill-color);\n",
              "    border-color: transparent;\n",
              "    border-bottom-color: var(--fill-color);\n",
              "    animation:\n",
              "      spin 1s steps(1) infinite;\n",
              "  }\n",
              "\n",
              "  @keyframes spin {\n",
              "    0% {\n",
              "      border-color: transparent;\n",
              "      border-bottom-color: var(--fill-color);\n",
              "      border-left-color: var(--fill-color);\n",
              "    }\n",
              "    20% {\n",
              "      border-color: transparent;\n",
              "      border-left-color: var(--fill-color);\n",
              "      border-top-color: var(--fill-color);\n",
              "    }\n",
              "    30% {\n",
              "      border-color: transparent;\n",
              "      border-left-color: var(--fill-color);\n",
              "      border-top-color: var(--fill-color);\n",
              "      border-right-color: var(--fill-color);\n",
              "    }\n",
              "    40% {\n",
              "      border-color: transparent;\n",
              "      border-right-color: var(--fill-color);\n",
              "      border-top-color: var(--fill-color);\n",
              "    }\n",
              "    60% {\n",
              "      border-color: transparent;\n",
              "      border-right-color: var(--fill-color);\n",
              "    }\n",
              "    80% {\n",
              "      border-color: transparent;\n",
              "      border-right-color: var(--fill-color);\n",
              "      border-bottom-color: var(--fill-color);\n",
              "    }\n",
              "    90% {\n",
              "      border-color: transparent;\n",
              "      border-bottom-color: var(--fill-color);\n",
              "    }\n",
              "  }\n",
              "</style>\n",
              "\n",
              "  <script>\n",
              "    async function quickchart(key) {\n",
              "      const quickchartButtonEl =\n",
              "        document.querySelector('#' + key + ' button');\n",
              "      quickchartButtonEl.disabled = true;  // To prevent multiple clicks.\n",
              "      quickchartButtonEl.classList.add('colab-df-spinner');\n",
              "      try {\n",
              "        const charts = await google.colab.kernel.invokeFunction(\n",
              "            'suggestCharts', [key], {});\n",
              "      } catch (error) {\n",
              "        console.error('Error during call to suggestCharts:', error);\n",
              "      }\n",
              "      quickchartButtonEl.classList.remove('colab-df-spinner');\n",
              "      quickchartButtonEl.classList.add('colab-df-quickchart-complete');\n",
              "    }\n",
              "    (() => {\n",
              "      let quickchartButtonEl =\n",
              "        document.querySelector('#df-f84c20e3-4954-4f6f-bfa3-0fa4c08cd610 button');\n",
              "      quickchartButtonEl.style.display =\n",
              "        google.colab.kernel.accessAllowed ? 'block' : 'none';\n",
              "    })();\n",
              "  </script>\n",
              "</div>\n",
              "\n",
              "    </div>\n",
              "  </div>\n"
            ],
            "application/vnd.google.colaboratory.intrinsic+json": {
              "type": "dataframe",
              "variable_name": "articles"
            }
          },
          "metadata": {},
          "execution_count": 58
        }
      ]
    },
    {
      "cell_type": "code",
      "source": [
        "output_dir = '/content/drive/MyDrive/Colab Notebooks/InfoVis_FinalProject'\n",
        "final_filename = os.path.join(output_dir, 'sentiment_nyt_clean_mini.csv')"
      ],
      "metadata": {
        "id": "JNnFLW16-MOX"
      },
      "execution_count": 18,
      "outputs": []
    },
    {
      "cell_type": "code",
      "source": [
        "articles.to_csv(final_filename,mode = 'a',index = False)"
      ],
      "metadata": {
        "id": "uh7LGHOZq7XZ"
      },
      "execution_count": 19,
      "outputs": []
    }
  ]
}